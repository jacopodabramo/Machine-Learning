{
  "nbformat": 4,
  "nbformat_minor": 0,
  "metadata": {
    "colab": {
      "provenance": []
    },
    "kernelspec": {
      "name": "python3",
      "display_name": "Python 3"
    },
    "language_info": {
      "name": "python"
    }
  },
  "cells": [
    {
      "cell_type": "code",
      "execution_count": null,
      "metadata": {
        "id": "1Zb3E1YiVJts"
      },
      "outputs": [],
      "source": [
        "import warnings\n",
        "warnings.filterwarnings('ignore') # uncomment this line to suppress warnings\n",
        "\n",
        "import pandas as pd\n",
        "import numpy as np\n",
        "import matplotlib.pyplot as plt\n",
        "from sklearn.metrics import classification_report\n",
        "from sklearn.model_selection import train_test_split\n",
        "from sklearn.naive_bayes import GaussianNB\n",
        "from sklearn.model_selection import GridSearchCV\n",
        "from sklearn.ensemble import AdaBoostClassifier\n",
        "from sklearn.metrics import confusion_matrix\n",
        "\n",
        "random_state = 42"
      ]
    },
    {
      "cell_type": "markdown",
      "source": [
        "# 1"
      ],
      "metadata": {
        "id": "-4HQQNt3XdCv"
      }
    },
    {
      "cell_type": "code",
      "source": [
        "df = pd.read_csv('/content/drive/MyDrive/Tracce altro drive/13-01-2022/exam2022_01_13.csv')\n",
        "display(df)"
      ],
      "metadata": {
        "colab": {
          "base_uri": "https://localhost:8080/",
          "height": 488
        },
        "id": "L8rkPcEPXTsv",
        "outputId": "5f56eb6a-0bae-43b8-d993-a9744d87ff92"
      },
      "execution_count": null,
      "outputs": [
        {
          "output_type": "display_data",
          "data": {
            "text/plain": [
              "    language         X1        X2        X3         X4        X5         X6  \\\n",
              "0         ES   7.071476 -6.512900  7.650800  11.150783 -7.657312  12.484021   \n",
              "1         ES  10.982967 -5.157445  3.952060  11.529381 -7.638047  12.136098   \n",
              "2         ES   7.827108 -5.477472  7.816257   9.187592 -7.172511  11.715299   \n",
              "3         ES   6.744083 -5.688920  6.546789   9.000183 -6.924963  11.710766   \n",
              "4         ES   5.836843 -5.326557  7.472265   8.847440 -6.773244  12.677218   \n",
              "..       ...        ...       ...       ...        ...       ...        ...   \n",
              "324       US  -0.525273 -3.868338  3.548304   1.496249  3.490753   5.849887   \n",
              "325       US  -2.094001 -1.073113  1.217397  -0.550790  2.666547   7.449942   \n",
              "326       US   2.116909 -4.441482  5.350392   3.675396  2.715876   3.682670   \n",
              "327       US   0.299616  0.324844  3.299919   2.044040  3.634828   6.693840   \n",
              "328       US   3.214254 -3.135152  1.122691   4.712444  5.926518   6.915566   \n",
              "\n",
              "            X7         X8         X9       X10       X11       X12  \n",
              "0   -11.709772   3.426596   1.462715 -2.812753  0.866538 -5.244274  \n",
              "1   -12.036247   3.491943   0.595441 -4.508811  2.332147 -6.221857  \n",
              "2   -13.847214   4.574075  -1.687559 -7.204041 -0.011847 -6.463144  \n",
              "3   -12.374388   6.169879  -0.544747 -6.019237  1.358559 -6.356441  \n",
              "4   -12.315061   4.416344   0.193500 -3.644812  2.151239 -6.816310  \n",
              "..         ...        ...        ...       ...       ...       ...  \n",
              "324  -7.747027   9.738836 -11.754543  7.129909  0.209947 -1.946914  \n",
              "325  -6.418064  10.907098 -11.134323  6.728373  2.461446 -0.026113  \n",
              "326  -4.500850  11.798565 -12.031005  7.566142 -0.606010 -2.245129  \n",
              "327  -5.676224  12.000518 -11.912901  4.664406  1.197789 -2.230275  \n",
              "328  -5.799727  10.858532 -11.659845       NaN  0.349482 -5.983281  \n",
              "\n",
              "[329 rows x 13 columns]"
            ],
            "text/html": [
              "\n",
              "  <div id=\"df-b4a28ebf-bce3-4300-8b98-a345249f22ec\">\n",
              "    <div class=\"colab-df-container\">\n",
              "      <div>\n",
              "<style scoped>\n",
              "    .dataframe tbody tr th:only-of-type {\n",
              "        vertical-align: middle;\n",
              "    }\n",
              "\n",
              "    .dataframe tbody tr th {\n",
              "        vertical-align: top;\n",
              "    }\n",
              "\n",
              "    .dataframe thead th {\n",
              "        text-align: right;\n",
              "    }\n",
              "</style>\n",
              "<table border=\"1\" class=\"dataframe\">\n",
              "  <thead>\n",
              "    <tr style=\"text-align: right;\">\n",
              "      <th></th>\n",
              "      <th>language</th>\n",
              "      <th>X1</th>\n",
              "      <th>X2</th>\n",
              "      <th>X3</th>\n",
              "      <th>X4</th>\n",
              "      <th>X5</th>\n",
              "      <th>X6</th>\n",
              "      <th>X7</th>\n",
              "      <th>X8</th>\n",
              "      <th>X9</th>\n",
              "      <th>X10</th>\n",
              "      <th>X11</th>\n",
              "      <th>X12</th>\n",
              "    </tr>\n",
              "  </thead>\n",
              "  <tbody>\n",
              "    <tr>\n",
              "      <th>0</th>\n",
              "      <td>ES</td>\n",
              "      <td>7.071476</td>\n",
              "      <td>-6.512900</td>\n",
              "      <td>7.650800</td>\n",
              "      <td>11.150783</td>\n",
              "      <td>-7.657312</td>\n",
              "      <td>12.484021</td>\n",
              "      <td>-11.709772</td>\n",
              "      <td>3.426596</td>\n",
              "      <td>1.462715</td>\n",
              "      <td>-2.812753</td>\n",
              "      <td>0.866538</td>\n",
              "      <td>-5.244274</td>\n",
              "    </tr>\n",
              "    <tr>\n",
              "      <th>1</th>\n",
              "      <td>ES</td>\n",
              "      <td>10.982967</td>\n",
              "      <td>-5.157445</td>\n",
              "      <td>3.952060</td>\n",
              "      <td>11.529381</td>\n",
              "      <td>-7.638047</td>\n",
              "      <td>12.136098</td>\n",
              "      <td>-12.036247</td>\n",
              "      <td>3.491943</td>\n",
              "      <td>0.595441</td>\n",
              "      <td>-4.508811</td>\n",
              "      <td>2.332147</td>\n",
              "      <td>-6.221857</td>\n",
              "    </tr>\n",
              "    <tr>\n",
              "      <th>2</th>\n",
              "      <td>ES</td>\n",
              "      <td>7.827108</td>\n",
              "      <td>-5.477472</td>\n",
              "      <td>7.816257</td>\n",
              "      <td>9.187592</td>\n",
              "      <td>-7.172511</td>\n",
              "      <td>11.715299</td>\n",
              "      <td>-13.847214</td>\n",
              "      <td>4.574075</td>\n",
              "      <td>-1.687559</td>\n",
              "      <td>-7.204041</td>\n",
              "      <td>-0.011847</td>\n",
              "      <td>-6.463144</td>\n",
              "    </tr>\n",
              "    <tr>\n",
              "      <th>3</th>\n",
              "      <td>ES</td>\n",
              "      <td>6.744083</td>\n",
              "      <td>-5.688920</td>\n",
              "      <td>6.546789</td>\n",
              "      <td>9.000183</td>\n",
              "      <td>-6.924963</td>\n",
              "      <td>11.710766</td>\n",
              "      <td>-12.374388</td>\n",
              "      <td>6.169879</td>\n",
              "      <td>-0.544747</td>\n",
              "      <td>-6.019237</td>\n",
              "      <td>1.358559</td>\n",
              "      <td>-6.356441</td>\n",
              "    </tr>\n",
              "    <tr>\n",
              "      <th>4</th>\n",
              "      <td>ES</td>\n",
              "      <td>5.836843</td>\n",
              "      <td>-5.326557</td>\n",
              "      <td>7.472265</td>\n",
              "      <td>8.847440</td>\n",
              "      <td>-6.773244</td>\n",
              "      <td>12.677218</td>\n",
              "      <td>-12.315061</td>\n",
              "      <td>4.416344</td>\n",
              "      <td>0.193500</td>\n",
              "      <td>-3.644812</td>\n",
              "      <td>2.151239</td>\n",
              "      <td>-6.816310</td>\n",
              "    </tr>\n",
              "    <tr>\n",
              "      <th>...</th>\n",
              "      <td>...</td>\n",
              "      <td>...</td>\n",
              "      <td>...</td>\n",
              "      <td>...</td>\n",
              "      <td>...</td>\n",
              "      <td>...</td>\n",
              "      <td>...</td>\n",
              "      <td>...</td>\n",
              "      <td>...</td>\n",
              "      <td>...</td>\n",
              "      <td>...</td>\n",
              "      <td>...</td>\n",
              "      <td>...</td>\n",
              "    </tr>\n",
              "    <tr>\n",
              "      <th>324</th>\n",
              "      <td>US</td>\n",
              "      <td>-0.525273</td>\n",
              "      <td>-3.868338</td>\n",
              "      <td>3.548304</td>\n",
              "      <td>1.496249</td>\n",
              "      <td>3.490753</td>\n",
              "      <td>5.849887</td>\n",
              "      <td>-7.747027</td>\n",
              "      <td>9.738836</td>\n",
              "      <td>-11.754543</td>\n",
              "      <td>7.129909</td>\n",
              "      <td>0.209947</td>\n",
              "      <td>-1.946914</td>\n",
              "    </tr>\n",
              "    <tr>\n",
              "      <th>325</th>\n",
              "      <td>US</td>\n",
              "      <td>-2.094001</td>\n",
              "      <td>-1.073113</td>\n",
              "      <td>1.217397</td>\n",
              "      <td>-0.550790</td>\n",
              "      <td>2.666547</td>\n",
              "      <td>7.449942</td>\n",
              "      <td>-6.418064</td>\n",
              "      <td>10.907098</td>\n",
              "      <td>-11.134323</td>\n",
              "      <td>6.728373</td>\n",
              "      <td>2.461446</td>\n",
              "      <td>-0.026113</td>\n",
              "    </tr>\n",
              "    <tr>\n",
              "      <th>326</th>\n",
              "      <td>US</td>\n",
              "      <td>2.116909</td>\n",
              "      <td>-4.441482</td>\n",
              "      <td>5.350392</td>\n",
              "      <td>3.675396</td>\n",
              "      <td>2.715876</td>\n",
              "      <td>3.682670</td>\n",
              "      <td>-4.500850</td>\n",
              "      <td>11.798565</td>\n",
              "      <td>-12.031005</td>\n",
              "      <td>7.566142</td>\n",
              "      <td>-0.606010</td>\n",
              "      <td>-2.245129</td>\n",
              "    </tr>\n",
              "    <tr>\n",
              "      <th>327</th>\n",
              "      <td>US</td>\n",
              "      <td>0.299616</td>\n",
              "      <td>0.324844</td>\n",
              "      <td>3.299919</td>\n",
              "      <td>2.044040</td>\n",
              "      <td>3.634828</td>\n",
              "      <td>6.693840</td>\n",
              "      <td>-5.676224</td>\n",
              "      <td>12.000518</td>\n",
              "      <td>-11.912901</td>\n",
              "      <td>4.664406</td>\n",
              "      <td>1.197789</td>\n",
              "      <td>-2.230275</td>\n",
              "    </tr>\n",
              "    <tr>\n",
              "      <th>328</th>\n",
              "      <td>US</td>\n",
              "      <td>3.214254</td>\n",
              "      <td>-3.135152</td>\n",
              "      <td>1.122691</td>\n",
              "      <td>4.712444</td>\n",
              "      <td>5.926518</td>\n",
              "      <td>6.915566</td>\n",
              "      <td>-5.799727</td>\n",
              "      <td>10.858532</td>\n",
              "      <td>-11.659845</td>\n",
              "      <td>NaN</td>\n",
              "      <td>0.349482</td>\n",
              "      <td>-5.983281</td>\n",
              "    </tr>\n",
              "  </tbody>\n",
              "</table>\n",
              "<p>329 rows × 13 columns</p>\n",
              "</div>\n",
              "      <button class=\"colab-df-convert\" onclick=\"convertToInteractive('df-b4a28ebf-bce3-4300-8b98-a345249f22ec')\"\n",
              "              title=\"Convert this dataframe to an interactive table.\"\n",
              "              style=\"display:none;\">\n",
              "        \n",
              "  <svg xmlns=\"http://www.w3.org/2000/svg\" height=\"24px\"viewBox=\"0 0 24 24\"\n",
              "       width=\"24px\">\n",
              "    <path d=\"M0 0h24v24H0V0z\" fill=\"none\"/>\n",
              "    <path d=\"M18.56 5.44l.94 2.06.94-2.06 2.06-.94-2.06-.94-.94-2.06-.94 2.06-2.06.94zm-11 1L8.5 8.5l.94-2.06 2.06-.94-2.06-.94L8.5 2.5l-.94 2.06-2.06.94zm10 10l.94 2.06.94-2.06 2.06-.94-2.06-.94-.94-2.06-.94 2.06-2.06.94z\"/><path d=\"M17.41 7.96l-1.37-1.37c-.4-.4-.92-.59-1.43-.59-.52 0-1.04.2-1.43.59L10.3 9.45l-7.72 7.72c-.78.78-.78 2.05 0 2.83L4 21.41c.39.39.9.59 1.41.59.51 0 1.02-.2 1.41-.59l7.78-7.78 2.81-2.81c.8-.78.8-2.07 0-2.86zM5.41 20L4 18.59l7.72-7.72 1.47 1.35L5.41 20z\"/>\n",
              "  </svg>\n",
              "      </button>\n",
              "      \n",
              "  <style>\n",
              "    .colab-df-container {\n",
              "      display:flex;\n",
              "      flex-wrap:wrap;\n",
              "      gap: 12px;\n",
              "    }\n",
              "\n",
              "    .colab-df-convert {\n",
              "      background-color: #E8F0FE;\n",
              "      border: none;\n",
              "      border-radius: 50%;\n",
              "      cursor: pointer;\n",
              "      display: none;\n",
              "      fill: #1967D2;\n",
              "      height: 32px;\n",
              "      padding: 0 0 0 0;\n",
              "      width: 32px;\n",
              "    }\n",
              "\n",
              "    .colab-df-convert:hover {\n",
              "      background-color: #E2EBFA;\n",
              "      box-shadow: 0px 1px 2px rgba(60, 64, 67, 0.3), 0px 1px 3px 1px rgba(60, 64, 67, 0.15);\n",
              "      fill: #174EA6;\n",
              "    }\n",
              "\n",
              "    [theme=dark] .colab-df-convert {\n",
              "      background-color: #3B4455;\n",
              "      fill: #D2E3FC;\n",
              "    }\n",
              "\n",
              "    [theme=dark] .colab-df-convert:hover {\n",
              "      background-color: #434B5C;\n",
              "      box-shadow: 0px 1px 3px 1px rgba(0, 0, 0, 0.15);\n",
              "      filter: drop-shadow(0px 1px 2px rgba(0, 0, 0, 0.3));\n",
              "      fill: #FFFFFF;\n",
              "    }\n",
              "  </style>\n",
              "\n",
              "      <script>\n",
              "        const buttonEl =\n",
              "          document.querySelector('#df-b4a28ebf-bce3-4300-8b98-a345249f22ec button.colab-df-convert');\n",
              "        buttonEl.style.display =\n",
              "          google.colab.kernel.accessAllowed ? 'block' : 'none';\n",
              "\n",
              "        async function convertToInteractive(key) {\n",
              "          const element = document.querySelector('#df-b4a28ebf-bce3-4300-8b98-a345249f22ec');\n",
              "          const dataTable =\n",
              "            await google.colab.kernel.invokeFunction('convertToInteractive',\n",
              "                                                     [key], {});\n",
              "          if (!dataTable) return;\n",
              "\n",
              "          const docLinkHtml = 'Like what you see? Visit the ' +\n",
              "            '<a target=\"_blank\" href=https://colab.research.google.com/notebooks/data_table.ipynb>data table notebook</a>'\n",
              "            + ' to learn more about interactive tables.';\n",
              "          element.innerHTML = '';\n",
              "          dataTable['output_type'] = 'display_data';\n",
              "          await google.colab.output.renderOutput(dataTable, element);\n",
              "          const docLink = document.createElement('div');\n",
              "          docLink.innerHTML = docLinkHtml;\n",
              "          element.appendChild(docLink);\n",
              "        }\n",
              "      </script>\n",
              "    </div>\n",
              "  </div>\n",
              "  "
            ]
          },
          "metadata": {}
        }
      ]
    },
    {
      "cell_type": "code",
      "source": [
        "print(\"number of rows {} and number of columns {}\".format(df.shape[0],df.shape[1]))"
      ],
      "metadata": {
        "colab": {
          "base_uri": "https://localhost:8080/"
        },
        "id": "8gqqy7HBXcxW",
        "outputId": "75bdb987-d107-4b4d-a642-8fed961a3e67"
      },
      "execution_count": null,
      "outputs": [
        {
          "output_type": "stream",
          "name": "stdout",
          "text": [
            "number of rows 329 and number of columns 13\n"
          ]
        }
      ]
    },
    {
      "cell_type": "code",
      "source": [
        "df.describe()"
      ],
      "metadata": {
        "colab": {
          "base_uri": "https://localhost:8080/",
          "height": 364
        },
        "id": "Ehi4jB0yYIOS",
        "outputId": "4e2a64a3-e41b-45cb-a8c8-55396555c78d"
      },
      "execution_count": null,
      "outputs": [
        {
          "output_type": "execute_result",
          "data": {
            "text/plain": [
              "               X1          X2          X3          X4          X5          X6  \\\n",
              "count  329.000000  329.000000  329.000000  329.000000  329.000000  329.000000   \n",
              "mean     5.645227   -4.270814    2.635319    7.200207   -5.648733    9.810236   \n",
              "std      5.105302    3.514350    3.635323    4.310095    4.596180    3.624654   \n",
              "min     -6.067831  -14.972962   -6.186583   -8.844231  -15.656596   -3.528964   \n",
              "25%      2.065603   -6.515764    0.137042    4.700874   -8.417684    8.643563   \n",
              "50%      4.954206   -4.252512    2.029268    7.804680   -6.786670   10.379330   \n",
              "75%      9.793648   -1.560250    4.178026   10.129165   -4.463308   11.784360   \n",
              "max     17.749851    3.570765   17.066487   16.178942    7.912809   21.445837   \n",
              "\n",
              "               X7          X8          X9         X10         X11         X12  \n",
              "count  329.000000  329.000000  329.000000  321.000000  329.000000  329.000000  \n",
              "mean    -9.408053    5.117328   -1.229432   -2.411215    2.430833   -3.980415  \n",
              "std      2.484117    2.650608    3.634849    5.027840    3.478467    2.985879  \n",
              "min    -15.365665   -2.873862  -15.510974  -11.429178  -13.664104  -13.724103  \n",
              "25%    -11.120860    3.482167   -1.749082   -5.090180    1.197789   -5.941409  \n",
              "50%     -9.710399    4.843103   -0.389970   -3.327718    3.169703   -4.374334  \n",
              "75%     -7.989370    6.588931    0.779993   -1.512083    4.673452   -2.191658  \n",
              "max     -0.424033   13.846083    4.789989   16.326455    9.166066    5.259430  "
            ],
            "text/html": [
              "\n",
              "  <div id=\"df-eb25b962-e8ae-470d-837b-51ca642ac27b\">\n",
              "    <div class=\"colab-df-container\">\n",
              "      <div>\n",
              "<style scoped>\n",
              "    .dataframe tbody tr th:only-of-type {\n",
              "        vertical-align: middle;\n",
              "    }\n",
              "\n",
              "    .dataframe tbody tr th {\n",
              "        vertical-align: top;\n",
              "    }\n",
              "\n",
              "    .dataframe thead th {\n",
              "        text-align: right;\n",
              "    }\n",
              "</style>\n",
              "<table border=\"1\" class=\"dataframe\">\n",
              "  <thead>\n",
              "    <tr style=\"text-align: right;\">\n",
              "      <th></th>\n",
              "      <th>X1</th>\n",
              "      <th>X2</th>\n",
              "      <th>X3</th>\n",
              "      <th>X4</th>\n",
              "      <th>X5</th>\n",
              "      <th>X6</th>\n",
              "      <th>X7</th>\n",
              "      <th>X8</th>\n",
              "      <th>X9</th>\n",
              "      <th>X10</th>\n",
              "      <th>X11</th>\n",
              "      <th>X12</th>\n",
              "    </tr>\n",
              "  </thead>\n",
              "  <tbody>\n",
              "    <tr>\n",
              "      <th>count</th>\n",
              "      <td>329.000000</td>\n",
              "      <td>329.000000</td>\n",
              "      <td>329.000000</td>\n",
              "      <td>329.000000</td>\n",
              "      <td>329.000000</td>\n",
              "      <td>329.000000</td>\n",
              "      <td>329.000000</td>\n",
              "      <td>329.000000</td>\n",
              "      <td>329.000000</td>\n",
              "      <td>321.000000</td>\n",
              "      <td>329.000000</td>\n",
              "      <td>329.000000</td>\n",
              "    </tr>\n",
              "    <tr>\n",
              "      <th>mean</th>\n",
              "      <td>5.645227</td>\n",
              "      <td>-4.270814</td>\n",
              "      <td>2.635319</td>\n",
              "      <td>7.200207</td>\n",
              "      <td>-5.648733</td>\n",
              "      <td>9.810236</td>\n",
              "      <td>-9.408053</td>\n",
              "      <td>5.117328</td>\n",
              "      <td>-1.229432</td>\n",
              "      <td>-2.411215</td>\n",
              "      <td>2.430833</td>\n",
              "      <td>-3.980415</td>\n",
              "    </tr>\n",
              "    <tr>\n",
              "      <th>std</th>\n",
              "      <td>5.105302</td>\n",
              "      <td>3.514350</td>\n",
              "      <td>3.635323</td>\n",
              "      <td>4.310095</td>\n",
              "      <td>4.596180</td>\n",
              "      <td>3.624654</td>\n",
              "      <td>2.484117</td>\n",
              "      <td>2.650608</td>\n",
              "      <td>3.634849</td>\n",
              "      <td>5.027840</td>\n",
              "      <td>3.478467</td>\n",
              "      <td>2.985879</td>\n",
              "    </tr>\n",
              "    <tr>\n",
              "      <th>min</th>\n",
              "      <td>-6.067831</td>\n",
              "      <td>-14.972962</td>\n",
              "      <td>-6.186583</td>\n",
              "      <td>-8.844231</td>\n",
              "      <td>-15.656596</td>\n",
              "      <td>-3.528964</td>\n",
              "      <td>-15.365665</td>\n",
              "      <td>-2.873862</td>\n",
              "      <td>-15.510974</td>\n",
              "      <td>-11.429178</td>\n",
              "      <td>-13.664104</td>\n",
              "      <td>-13.724103</td>\n",
              "    </tr>\n",
              "    <tr>\n",
              "      <th>25%</th>\n",
              "      <td>2.065603</td>\n",
              "      <td>-6.515764</td>\n",
              "      <td>0.137042</td>\n",
              "      <td>4.700874</td>\n",
              "      <td>-8.417684</td>\n",
              "      <td>8.643563</td>\n",
              "      <td>-11.120860</td>\n",
              "      <td>3.482167</td>\n",
              "      <td>-1.749082</td>\n",
              "      <td>-5.090180</td>\n",
              "      <td>1.197789</td>\n",
              "      <td>-5.941409</td>\n",
              "    </tr>\n",
              "    <tr>\n",
              "      <th>50%</th>\n",
              "      <td>4.954206</td>\n",
              "      <td>-4.252512</td>\n",
              "      <td>2.029268</td>\n",
              "      <td>7.804680</td>\n",
              "      <td>-6.786670</td>\n",
              "      <td>10.379330</td>\n",
              "      <td>-9.710399</td>\n",
              "      <td>4.843103</td>\n",
              "      <td>-0.389970</td>\n",
              "      <td>-3.327718</td>\n",
              "      <td>3.169703</td>\n",
              "      <td>-4.374334</td>\n",
              "    </tr>\n",
              "    <tr>\n",
              "      <th>75%</th>\n",
              "      <td>9.793648</td>\n",
              "      <td>-1.560250</td>\n",
              "      <td>4.178026</td>\n",
              "      <td>10.129165</td>\n",
              "      <td>-4.463308</td>\n",
              "      <td>11.784360</td>\n",
              "      <td>-7.989370</td>\n",
              "      <td>6.588931</td>\n",
              "      <td>0.779993</td>\n",
              "      <td>-1.512083</td>\n",
              "      <td>4.673452</td>\n",
              "      <td>-2.191658</td>\n",
              "    </tr>\n",
              "    <tr>\n",
              "      <th>max</th>\n",
              "      <td>17.749851</td>\n",
              "      <td>3.570765</td>\n",
              "      <td>17.066487</td>\n",
              "      <td>16.178942</td>\n",
              "      <td>7.912809</td>\n",
              "      <td>21.445837</td>\n",
              "      <td>-0.424033</td>\n",
              "      <td>13.846083</td>\n",
              "      <td>4.789989</td>\n",
              "      <td>16.326455</td>\n",
              "      <td>9.166066</td>\n",
              "      <td>5.259430</td>\n",
              "    </tr>\n",
              "  </tbody>\n",
              "</table>\n",
              "</div>\n",
              "      <button class=\"colab-df-convert\" onclick=\"convertToInteractive('df-eb25b962-e8ae-470d-837b-51ca642ac27b')\"\n",
              "              title=\"Convert this dataframe to an interactive table.\"\n",
              "              style=\"display:none;\">\n",
              "        \n",
              "  <svg xmlns=\"http://www.w3.org/2000/svg\" height=\"24px\"viewBox=\"0 0 24 24\"\n",
              "       width=\"24px\">\n",
              "    <path d=\"M0 0h24v24H0V0z\" fill=\"none\"/>\n",
              "    <path d=\"M18.56 5.44l.94 2.06.94-2.06 2.06-.94-2.06-.94-.94-2.06-.94 2.06-2.06.94zm-11 1L8.5 8.5l.94-2.06 2.06-.94-2.06-.94L8.5 2.5l-.94 2.06-2.06.94zm10 10l.94 2.06.94-2.06 2.06-.94-2.06-.94-.94-2.06-.94 2.06-2.06.94z\"/><path d=\"M17.41 7.96l-1.37-1.37c-.4-.4-.92-.59-1.43-.59-.52 0-1.04.2-1.43.59L10.3 9.45l-7.72 7.72c-.78.78-.78 2.05 0 2.83L4 21.41c.39.39.9.59 1.41.59.51 0 1.02-.2 1.41-.59l7.78-7.78 2.81-2.81c.8-.78.8-2.07 0-2.86zM5.41 20L4 18.59l7.72-7.72 1.47 1.35L5.41 20z\"/>\n",
              "  </svg>\n",
              "      </button>\n",
              "      \n",
              "  <style>\n",
              "    .colab-df-container {\n",
              "      display:flex;\n",
              "      flex-wrap:wrap;\n",
              "      gap: 12px;\n",
              "    }\n",
              "\n",
              "    .colab-df-convert {\n",
              "      background-color: #E8F0FE;\n",
              "      border: none;\n",
              "      border-radius: 50%;\n",
              "      cursor: pointer;\n",
              "      display: none;\n",
              "      fill: #1967D2;\n",
              "      height: 32px;\n",
              "      padding: 0 0 0 0;\n",
              "      width: 32px;\n",
              "    }\n",
              "\n",
              "    .colab-df-convert:hover {\n",
              "      background-color: #E2EBFA;\n",
              "      box-shadow: 0px 1px 2px rgba(60, 64, 67, 0.3), 0px 1px 3px 1px rgba(60, 64, 67, 0.15);\n",
              "      fill: #174EA6;\n",
              "    }\n",
              "\n",
              "    [theme=dark] .colab-df-convert {\n",
              "      background-color: #3B4455;\n",
              "      fill: #D2E3FC;\n",
              "    }\n",
              "\n",
              "    [theme=dark] .colab-df-convert:hover {\n",
              "      background-color: #434B5C;\n",
              "      box-shadow: 0px 1px 3px 1px rgba(0, 0, 0, 0.15);\n",
              "      filter: drop-shadow(0px 1px 2px rgba(0, 0, 0, 0.3));\n",
              "      fill: #FFFFFF;\n",
              "    }\n",
              "  </style>\n",
              "\n",
              "      <script>\n",
              "        const buttonEl =\n",
              "          document.querySelector('#df-eb25b962-e8ae-470d-837b-51ca642ac27b button.colab-df-convert');\n",
              "        buttonEl.style.display =\n",
              "          google.colab.kernel.accessAllowed ? 'block' : 'none';\n",
              "\n",
              "        async function convertToInteractive(key) {\n",
              "          const element = document.querySelector('#df-eb25b962-e8ae-470d-837b-51ca642ac27b');\n",
              "          const dataTable =\n",
              "            await google.colab.kernel.invokeFunction('convertToInteractive',\n",
              "                                                     [key], {});\n",
              "          if (!dataTable) return;\n",
              "\n",
              "          const docLinkHtml = 'Like what you see? Visit the ' +\n",
              "            '<a target=\"_blank\" href=https://colab.research.google.com/notebooks/data_table.ipynb>data table notebook</a>'\n",
              "            + ' to learn more about interactive tables.';\n",
              "          element.innerHTML = '';\n",
              "          dataTable['output_type'] = 'display_data';\n",
              "          await google.colab.output.renderOutput(dataTable, element);\n",
              "          const docLink = document.createElement('div');\n",
              "          docLink.innerHTML = docLinkHtml;\n",
              "          element.appendChild(docLink);\n",
              "        }\n",
              "      </script>\n",
              "    </div>\n",
              "  </div>\n",
              "  "
            ]
          },
          "metadata": {},
          "execution_count": 11
        }
      ]
    },
    {
      "cell_type": "code",
      "source": [
        "plt.hist(df['language'])\n",
        "plt.show()"
      ],
      "metadata": {
        "colab": {
          "base_uri": "https://localhost:8080/",
          "height": 265
        },
        "id": "egLd3kEXYmqm",
        "outputId": "3819c39e-e37d-400e-f4f2-d474eb5d01d3"
      },
      "execution_count": null,
      "outputs": [
        {
          "output_type": "display_data",
          "data": {
            "text/plain": [
              "<Figure size 432x288 with 1 Axes>"
            ],
            "image/png": "[encoded data removed]"
          },
          "metadata": {
            "needs_background": "light"
          }
        }
      ]
    },
    {
      "cell_type": "markdown",
      "source": [
        "# 2"
      ],
      "metadata": {
        "id": "o1KlL8WMZa_3"
      }
    },
    {
      "cell_type": "code",
      "source": [
        "print('number of rows with null values')\n",
        "df.shape[0] - df.dropna().shape[0]"
      ],
      "metadata": {
        "colab": {
          "base_uri": "https://localhost:8080/"
        },
        "id": "C881jfSQZcpY",
        "outputId": "2916687e-f8ce-43bc-b6bf-72c08d9dde63"
      },
      "execution_count": null,
      "outputs": [
        {
          "output_type": "stream",
          "name": "stdout",
          "text": [
            "number of rows with null values\n"
          ]
        },
        {
          "output_type": "execute_result",
          "data": {
            "text/plain": [
              "8"
            ]
          },
          "metadata": {},
          "execution_count": 15
        }
      ]
    },
    {
      "cell_type": "code",
      "source": [
        "df1 = df.dropna().copy()\n",
        "df1.shape"
      ],
      "metadata": {
        "colab": {
          "base_uri": "https://localhost:8080/"
        },
        "id": "xh_oNLd8ZrYx",
        "outputId": "cae99fa0-037b-42ad-aeae-c4a351ed922b"
      },
      "execution_count": null,
      "outputs": [
        {
          "output_type": "execute_result",
          "data": {
            "text/plain": [
              "(321, 13)"
            ]
          },
          "metadata": {},
          "execution_count": 16
        }
      ]
    },
    {
      "cell_type": "markdown",
      "source": [
        "# 3"
      ],
      "metadata": {
        "id": "iLRlcMIMZ9J9"
      }
    },
    {
      "cell_type": "code",
      "source": [
        "X = df1.iloc[:,1:]\n",
        "y = df1['language']\n",
        "Xtrain, Xtest, ytrain, ytest = train_test_split(X,y,random_state = 1,train_size=0.7)\n",
        "print(Xtrain.shape,Xtest.shape)"
      ],
      "metadata": {
        "colab": {
          "base_uri": "https://localhost:8080/"
        },
        "id": "gGfL5pfjZ-zS",
        "outputId": "76088609-631a-4079-cd43-b8480bb4b670"
      },
      "execution_count": null,
      "outputs": [
        {
          "output_type": "stream",
          "name": "stdout",
          "text": [
            "(224, 12) (97, 12)\n"
          ]
        }
      ]
    },
    {
      "cell_type": "markdown",
      "source": [
        "# 3"
      ],
      "metadata": {
        "id": "nf1gzSBea6AY"
      }
    },
    {
      "cell_type": "code",
      "source": [
        "tuned_param_adb = [{'n_estimators':[20,30,40,50],\n",
        "                   'learning_rate':[0.5,0.75,1,1.25,1.5]}]\n",
        "clf = GridSearchCV(AdaBoostClassifier(),tuned_param_adb,cv=5,\n",
        "                           scoring='recall_macro', \n",
        "                           return_train_score = False,\n",
        "                           n_jobs = 2, # this allows using multi-cores\n",
        "                           )\n",
        "\n",
        "clf.fit(Xtrain, ytrain)\n",
        "print(\"Best parameters set found on train set:\")\n",
        "print()\n",
        "print(clf.best_params_)\n",
        "y_pred = clf.predict(Xtest)"
      ],
      "metadata": {
        "colab": {
          "base_uri": "https://localhost:8080/"
        },
        "id": "341qMFJba7uq",
        "outputId": "6e146ebc-c8c2-46f5-d0f2-200b84f7e5d6"
      },
      "execution_count": null,
      "outputs": [
        {
          "output_type": "stream",
          "name": "stdout",
          "text": [
            "Best parameters set found on train set:\n",
            "\n",
            "{'learning_rate': 0.75, 'n_estimators': 50}\n"
          ]
        }
      ]
    },
    {
      "cell_type": "markdown",
      "source": [
        "# 4"
      ],
      "metadata": {
        "id": "QNlSY6ehb97z"
      }
    },
    {
      "cell_type": "code",
      "source": [
        "print(classification_report(ytest, y_pred))"
      ],
      "metadata": {
        "colab": {
          "base_uri": "https://localhost:8080/"
        },
        "id": "GAsuhFvUbgrT",
        "outputId": "5e5a86e0-83ac-4afc-83e0-804b7bb5d8cf"
      },
      "execution_count": null,
      "outputs": [
        {
          "output_type": "stream",
          "name": "stdout",
          "text": [
            "              precision    recall  f1-score   support\n",
            "\n",
            "          ES       1.00      0.33      0.50         9\n",
            "          FR       0.19      0.50      0.27         6\n",
            "          GE       0.67      0.22      0.33         9\n",
            "          IT       0.33      0.56      0.42         9\n",
            "          UK       0.47      0.44      0.45        16\n",
            "          US       0.51      0.48      0.49        48\n",
            "\n",
            "    accuracy                           0.44        97\n",
            "   macro avg       0.53      0.42      0.41        97\n",
            "weighted avg       0.53      0.44      0.45        97\n",
            "\n"
          ]
        }
      ]
    },
    {
      "cell_type": "markdown",
      "source": [
        "# 5"
      ],
      "metadata": {
        "id": "Y6RRZX2Lb__u"
      }
    },
    {
      "cell_type": "code",
      "source": [
        "print(confusion_matrix(ytest, y_pred))"
      ],
      "metadata": {
        "colab": {
          "base_uri": "https://localhost:8080/"
        },
        "id": "NQhnvTnLbuzR",
        "outputId": "7f2c4982-7654-4caf-9f8e-ecb83f93c091"
      },
      "execution_count": null,
      "outputs": [
        {
          "output_type": "stream",
          "name": "stdout",
          "text": [
            "[[ 3  0  0  0  0  6]\n",
            " [ 0  3  0  0  0  3]\n",
            " [ 0  0  2  0  2  5]\n",
            " [ 0  0  0  5  1  3]\n",
            " [ 0  0  0  4  7  5]\n",
            " [ 0 13  1  6  5 23]]\n"
          ]
        }
      ]
    },
    {
      "cell_type": "markdown",
      "source": [
        "# 6"
      ],
      "metadata": {
        "id": "b2hwCIk0b78L"
      }
    },
    {
      "cell_type": "code",
      "source": [
        "tuned_param_nb = [{'var_smoothing': [10, 1, 1e-1, 1e-2, 1e-3, 1e-4, 1e-5, 1e-6, 1e-07, 1e-8, 1e-9, 1e-10]}]\n",
        "\n",
        "clf = GridSearchCV(GaussianNB(),tuned_param_nb,cv=5,\n",
        "                           scoring='accuracy', \n",
        "                           return_train_score = False,\n",
        "                           n_jobs = 2, # this allows using multi-cores\n",
        "                           )\n",
        "\n",
        "clf.fit(Xtrain, ytrain)\n",
        "print(\"Best parameters set found on train set:\")\n",
        "print()\n",
        "print(clf.best_params_)\n",
        "y_pred_nb = clf.predict(Xtest)"
      ],
      "metadata": {
        "colab": {
          "base_uri": "https://localhost:8080/"
        },
        "id": "sEDYqQEzb7p9",
        "outputId": "da9d023c-3999-4804-c53e-836607fdb425"
      },
      "execution_count": null,
      "outputs": [
        {
          "output_type": "stream",
          "name": "stdout",
          "text": [
            "Best parameters set found on train set:\n",
            "\n",
            "{'var_smoothing': 0.01}\n"
          ]
        }
      ]
    },
    {
      "cell_type": "markdown",
      "source": [
        "# 7"
      ],
      "metadata": {
        "id": "8_FgLVHdcOXT"
      }
    },
    {
      "cell_type": "code",
      "source": [
        "print(classification_report(ytest, y_pred_nb))"
      ],
      "metadata": {
        "colab": {
          "base_uri": "https://localhost:8080/"
        },
        "id": "z63E0f-ccNkQ",
        "outputId": "5697fdc9-4fad-44ca-eea8-7469221b4e2f"
      },
      "execution_count": null,
      "outputs": [
        {
          "output_type": "stream",
          "name": "stdout",
          "text": [
            "              precision    recall  f1-score   support\n",
            "\n",
            "          ES       0.78      0.78      0.78         9\n",
            "          FR       0.06      0.17      0.09         6\n",
            "          GE       0.70      0.78      0.74         9\n",
            "          IT       0.38      0.67      0.48         9\n",
            "          UK       0.58      0.69      0.63        16\n",
            "          US       0.85      0.48      0.61        48\n",
            "\n",
            "    accuracy                           0.57        97\n",
            "   macro avg       0.56      0.59      0.55        97\n",
            "weighted avg       0.69      0.57      0.60        97\n",
            "\n"
          ]
        }
      ]
    },
    {
      "cell_type": "markdown",
      "source": [
        "# 8"
      ],
      "metadata": {
        "id": "xVi3tGwkcZ1M"
      }
    },
    {
      "cell_type": "code",
      "source": [
        "print(confusion_matrix(ytest, y_pred_nb))"
      ],
      "metadata": {
        "colab": {
          "base_uri": "https://localhost:8080/"
        },
        "id": "sMLN3tlWcbgC",
        "outputId": "f421ead3-d810-409a-e60a-23ea2b1ab338"
      },
      "execution_count": null,
      "outputs": [
        {
          "output_type": "stream",
          "name": "stdout",
          "text": [
            "[[ 7  1  0  0  0  1]\n",
            " [ 1  1  0  3  1  0]\n",
            " [ 0  1  7  1  0  0]\n",
            " [ 0  0  0  6  2  1]\n",
            " [ 0  1  1  1 11  2]\n",
            " [ 1 12  2  5  5 23]]\n"
          ]
        }
      ]
    }
  ]
}