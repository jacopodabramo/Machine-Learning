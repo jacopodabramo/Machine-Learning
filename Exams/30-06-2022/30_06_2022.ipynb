{
  "nbformat": 4,
  "nbformat_minor": 0,
  "metadata": {
    "colab": {
      "provenance": []
    },
    "kernelspec": {
      "name": "python3",
      "display_name": "Python 3"
    },
    "language_info": {
      "name": "python"
    }
  },
  "cells": [
    {
      "cell_type": "code",
      "execution_count": null,
      "metadata": {
        "id": "7uDdaTtwP31G"
      },
      "outputs": [],
      "source": [
        "import warnings\n",
        "warnings.filterwarnings('ignore') # uncomment this line to suppress warnings\n",
        "\n",
        "import seaborn as sns\n",
        "import pandas as pd\n",
        "import numpy as np\n",
        "from sklearn.impute import SimpleImputer\n",
        "from sklearn.model_selection import train_test_split\n",
        "from sklearn.naive_bayes import GaussianNB\n",
        "from sklearn.model_selection import GridSearchCV\n",
        "from sklearn.ensemble import AdaBoostClassifier\n",
        "from sklearn.metrics import confusion_matrix, f1_score, cohen_kappa_score\n",
        "\n",
        "random_state = 42\n",
        "     "
      ]
    },
    {
      "cell_type": "markdown",
      "source": [
        "# 1"
      ],
      "metadata": {
        "id": "JxpqwRXtQLQI"
      }
    },
    {
      "cell_type": "code",
      "source": [
        "df = pd.read_csv('/content/drive/MyDrive/Tracce altro drive/30-06-2022/horse-colic.csv',names=[str(i) for i in range(1,29)])\n",
        "df.shape"
      ],
      "metadata": {
        "id": "CbFMejn9QJjQ",
        "colab": {
          "base_uri": "https://localhost:8080/"
        },
        "outputId": "16e837b9-40cd-4c50-bfd4-faa64e314621"
      },
      "execution_count": null,
      "outputs": [
        {
          "output_type": "execute_result",
          "data": {
            "text/plain": [
              "(300, 28)"
            ]
          },
          "metadata": {},
          "execution_count": 36
        }
      ]
    },
    {
      "cell_type": "code",
      "source": [
        "df = df.drop(['3','25','26','27','28'],axis=1)"
      ],
      "metadata": {
        "id": "nR8CLm-wneuQ"
      },
      "execution_count": null,
      "outputs": []
    },
    {
      "cell_type": "code",
      "source": [
        "df = df.replace(['?'],np.nan)"
      ],
      "metadata": {
        "id": "tnq1666rng0M"
      },
      "execution_count": null,
      "outputs": []
    },
    {
      "cell_type": "code",
      "source": [
        "df.isna().sum()"
      ],
      "metadata": {
        "colab": {
          "base_uri": "https://localhost:8080/"
        },
        "id": "yFDHsE7onjRw",
        "outputId": "828f0539-5de2-4e1d-e21d-ec84f6d57a5a"
      },
      "execution_count": null,
      "outputs": [
        {
          "output_type": "execute_result",
          "data": {
            "text/plain": [
              "1       1\n",
              "2       0\n",
              "4      60\n",
              "5      24\n",
              "6      58\n",
              "7      56\n",
              "8      69\n",
              "9      47\n",
              "10     32\n",
              "11     55\n",
              "12     44\n",
              "13     56\n",
              "14    104\n",
              "15    106\n",
              "16    247\n",
              "17    102\n",
              "18    118\n",
              "19     29\n",
              "20     33\n",
              "21    165\n",
              "22    198\n",
              "23      1\n",
              "24      0\n",
              "dtype: int64"
            ]
          },
          "metadata": {},
          "execution_count": 39
        }
      ]
    },
    {
      "cell_type": "markdown",
      "source": [
        "# 2"
      ],
      "metadata": {
        "id": "uzZ7YaZbn0k_"
      }
    },
    {
      "cell_type": "code",
      "source": [
        "target = '23'\n",
        "df = df.dropna(axis=0, subset=[target])\n",
        "df.shape"
      ],
      "metadata": {
        "colab": {
          "base_uri": "https://localhost:8080/"
        },
        "id": "DUk-qwOEn1zt",
        "outputId": "24538cfe-adc5-4585-c73c-962c9c2c03c1"
      },
      "execution_count": null,
      "outputs": [
        {
          "output_type": "execute_result",
          "data": {
            "text/plain": [
              "(299, 23)"
            ]
          },
          "metadata": {},
          "execution_count": 40
        }
      ]
    },
    {
      "cell_type": "code",
      "source": [
        "imp_mean = SimpleImputer(missing_values=np.nan, strategy='mean')\n",
        "col = df.loc[:, df.columns != target].columns\n",
        "df_predicting = pd.DataFrame(imp_mean.fit_transform(df.loc[:, df.columns != target]), columns =col)"
      ],
      "metadata": {
        "id": "ig7GTWDEqUen"
      },
      "execution_count": null,
      "outputs": []
    },
    {
      "cell_type": "code",
      "source": [
        "X = df_predicting\n",
        "y = df[target]\n",
        "print(X.shape,y.shape)"
      ],
      "metadata": {
        "colab": {
          "base_uri": "https://localhost:8080/"
        },
        "id": "WP1hR-jGrWrb",
        "outputId": "c40d62ce-7978-4794-f940-46c9cd005eed"
      },
      "execution_count": null,
      "outputs": [
        {
          "output_type": "stream",
          "name": "stdout",
          "text": [
            "(299, 22) (299,)\n"
          ]
        }
      ]
    },
    {
      "cell_type": "markdown",
      "source": [
        "# 3"
      ],
      "metadata": {
        "id": "KKa7Jus8rzAv"
      }
    },
    {
      "cell_type": "code",
      "source": [
        "from sklearn.model_selection import train_test_split\n",
        "ts = 0.3\n",
        "Xtrain, Xtest, ytrain, ytest = train_test_split(X,y,test_size = ts, random_state = random_state)\n",
        "print(Xtrain.shape,Xtest.shape,)"
      ],
      "metadata": {
        "colab": {
          "base_uri": "https://localhost:8080/"
        },
        "id": "Rjs_yGNVr0mX",
        "outputId": "072234ca-2523-4876-f4e1-d55253d4caf0"
      },
      "execution_count": null,
      "outputs": [
        {
          "output_type": "stream",
          "name": "stdout",
          "text": [
            "(209, 22) (90, 22)\n"
          ]
        }
      ]
    },
    {
      "cell_type": "code",
      "source": [
        "tuned_param_adb = [{'n_estimators':[20,30,40,50],\n",
        "                   'learning_rate':[0.5,0.75,1,1.25,1.5]}]\n",
        "clf = GridSearchCV(AdaBoostClassifier(),tuned_param_adb,cv=5,\n",
        "                           scoring='accuracy', \n",
        "                           return_train_score = False,\n",
        "                           n_jobs = 2, # this allows using multi-cores\n",
        "                           )\n",
        "\n",
        "clf.fit(Xtrain, ytrain)\n",
        "print(\"Best parameters set found on train set:\")\n",
        "print()\n",
        "print(clf.best_params_)\n",
        "y_pred = clf.predict(Xtest)"
      ],
      "metadata": {
        "colab": {
          "base_uri": "https://localhost:8080/"
        },
        "id": "HCa1O8IssUkJ",
        "outputId": "9e03d45c-f485-4ec8-d48b-a5638990c6ef"
      },
      "execution_count": null,
      "outputs": [
        {
          "output_type": "stream",
          "name": "stdout",
          "text": [
            "Best parameters set found on train set:\n",
            "\n",
            "{'learning_rate': 1, 'n_estimators': 40}\n"
          ]
        }
      ]
    },
    {
      "cell_type": "code",
      "source": [
        "print(confusion_matrix(ytest, y_pred,normalize='true'))"
      ],
      "metadata": {
        "colab": {
          "base_uri": "https://localhost:8080/"
        },
        "id": "6IcIBRkOtg_8",
        "outputId": "fad7987e-a9c2-4e7b-af06-f234a1f07821"
      },
      "execution_count": null,
      "outputs": [
        {
          "output_type": "stream",
          "name": "stdout",
          "text": [
            "[[0.78       0.08       0.14      ]\n",
            " [0.35714286 0.5        0.14285714]\n",
            " [0.58333333 0.08333333 0.33333333]]\n"
          ]
        }
      ]
    },
    {
      "cell_type": "code",
      "source": [
        "f1_model1 = f1_score(ytest, y_pred, average='macro')\n",
        "print(f1_model1)"
      ],
      "metadata": {
        "colab": {
          "base_uri": "https://localhost:8080/"
        },
        "id": "aX5y7q81xqz5",
        "outputId": "39bc432a-b790-4a5f-c78a-620f21211d49"
      },
      "execution_count": null,
      "outputs": [
        {
          "output_type": "stream",
          "name": "stdout",
          "text": [
            "0.5426300112503779\n"
          ]
        }
      ]
    },
    {
      "cell_type": "code",
      "source": [
        "cohen_kappa_model1 = cohen_kappa_score(ytest, y_pred)\n",
        "print(cohen_kappa_model1)"
      ],
      "metadata": {
        "colab": {
          "base_uri": "https://localhost:8080/"
        },
        "id": "0r-_HiAHxvak",
        "outputId": "90c6d2a8-98ed-4675-ed12-45f4b9efc8ed"
      },
      "execution_count": null,
      "outputs": [
        {
          "output_type": "stream",
          "name": "stdout",
          "text": [
            "0.35265911072362677\n"
          ]
        }
      ]
    },
    {
      "cell_type": "markdown",
      "source": [
        "# 4"
      ],
      "metadata": {
        "id": "aZFdRSXkyy_k"
      }
    },
    {
      "cell_type": "code",
      "source": [
        "tuned_param_nb = [{'var_smoothing': [10, 1, 1e-1, 1e-2, 1e-3, 1e-4, 1e-5, 1e-6, 1e-07, 1e-8, 1e-9, 1e-10]}]\n",
        "\n",
        "clf = GridSearchCV(GaussianNB(),tuned_param_nb,cv=5,\n",
        "                           scoring='accuracy', \n",
        "                           return_train_score = False,\n",
        "                           n_jobs = 2, # this allows using multi-cores\n",
        "                           )\n",
        "\n",
        "clf.fit(Xtrain, ytrain)\n",
        "print(\"Best parameters set found on train set:\")\n",
        "print()\n",
        "print(clf.best_params_)\n",
        "y_pred_nb = clf.predict(Xtest)"
      ],
      "metadata": {
        "colab": {
          "base_uri": "https://localhost:8080/"
        },
        "id": "KUISEoDxzM--",
        "outputId": "1a857c82-6889-4211-986c-7cf705d88793"
      },
      "execution_count": null,
      "outputs": [
        {
          "output_type": "stream",
          "name": "stdout",
          "text": [
            "Best parameters set found on train set:\n",
            "\n",
            "{'var_smoothing': 0.01}\n"
          ]
        }
      ]
    },
    {
      "cell_type": "code",
      "source": [
        "print(confusion_matrix(ytest, y_pred_nb,normalize='true'))"
      ],
      "metadata": {
        "colab": {
          "base_uri": "https://localhost:8080/"
        },
        "id": "O39zBivtz2-e",
        "outputId": "58ae19e0-f935-4684-bd5d-01c572c5b25e"
      },
      "execution_count": null,
      "outputs": [
        {
          "output_type": "stream",
          "name": "stdout",
          "text": [
            "[[0.82       0.12       0.06      ]\n",
            " [0.32142857 0.60714286 0.07142857]\n",
            " [0.5        0.25       0.25      ]]\n"
          ]
        }
      ]
    },
    {
      "cell_type": "code",
      "source": [
        "f1_model2 = f1_score(ytest, y_pred_nb, average='macro')\n",
        "print(f1_model2)"
      ],
      "metadata": {
        "colab": {
          "base_uri": "https://localhost:8080/"
        },
        "id": "b2eFeCTT2NyX",
        "outputId": "10fd62af-bfa4-413b-96d1-d1f279a56045"
      },
      "execution_count": null,
      "outputs": [
        {
          "output_type": "stream",
          "name": "stdout",
          "text": [
            "0.5677381784300023\n"
          ]
        }
      ]
    },
    {
      "cell_type": "code",
      "source": [
        "cohen_kappa_model2 = cohen_kappa_score(ytest, y_pred_nb)\n",
        "print(cohen_kappa_model2)"
      ],
      "metadata": {
        "colab": {
          "base_uri": "https://localhost:8080/"
        },
        "id": "JEBu_Xhs2Pxd",
        "outputId": "a131578e-e0bc-47fe-d563-09f6236e92b5"
      },
      "execution_count": null,
      "outputs": [
        {
          "output_type": "stream",
          "name": "stdout",
          "text": [
            "0.41689008042895437\n"
          ]
        }
      ]
    },
    {
      "cell_type": "markdown",
      "source": [
        "There is slight difference between the two models but it seems that the classification with naive bayes perform a little better then the one with AdaBoost"
      ],
      "metadata": {
        "id": "IRnwtjTj5hvl"
      }
    }
  ]
}